{
 "cells": [
  {
   "cell_type": "code",
   "execution_count": 108,
   "id": "e95b4fbd",
   "metadata": {},
   "outputs": [],
   "source": [
    "import pandas as pd\n",
    "wake_voters1 = pd.read_excel('/Users/michellehand/Library/CloudStorage/OneDrive-WakeTechCommunityCollege/BAS221 Intro to Predictive Analytics/vrdb01.xlsx')\n",
    "wake_voters2 = pd.read_excel('/Users/michellehand/Library/CloudStorage/OneDrive-WakeTechCommunityCollege/BAS221 Intro to Predictive Analytics/vrdb02_12.xlsx')\n",
    "wake_voters3 = pd.read_excel('/Users/michellehand/Library/CloudStorage/OneDrive-WakeTechCommunityCollege/BAS221 Intro to Predictive Analytics/vrdb13_20.xlsx')"
   ]
  },
  {
   "cell_type": "code",
   "execution_count": 109,
   "id": "9f21e6b8",
   "metadata": {},
   "outputs": [],
   "source": [
    "wake_voters = pd.concat([wake_voters1, wake_voters2, wake_voters3], ignore_index=True)"
   ]
  },
  {
   "cell_type": "code",
   "execution_count": 110,
   "id": "3e87bef7",
   "metadata": {},
   "outputs": [
    {
     "data": {
      "text/plain": [
       "Index(['county_name', 'ReportDate', 'voter_reg_num', 'status_lbl', 'last_name',\n",
       "       'first_name', 'middle_name', 'name_suffix_lbl', 'house_num',\n",
       "       'half_code', 'street_dir_lbl', 'street_name', 'street_type_lbl',\n",
       "       'street_suffix_lbl', 'unit_designator', 'unit_num_str', 'city', 'state',\n",
       "       'zip', 'mail_addr1', 'mail_addr2', 'mail_addr3', 'mail_addr4',\n",
       "       'mail_city', 'mail_state', 'mail_zip', 'race_lbl', 'party_lbl',\n",
       "       'gender_lbl', 'registration_dt', 'eoy_age', 'precinct_lbl',\n",
       "       'municipality_lbl', 'ward_lbl', 'congressional_district_lbl',\n",
       "       'superior_court_lbl', 'judicial_district_lbl', 'nc_senate_lbl',\n",
       "       'nc_house_lbl', 'county_commissioner_lbl', 'school_lbl',\n",
       "       'prosecutorial_lbl', 'voting_district_lbl', '05/08/2018', '11/06/2018',\n",
       "       '10/08/2019', '11/05/2019', '03/03/2020', '11/03/2020', '10/05/2021',\n",
       "       '11/02/2021', '05/17/2022', '07/26/2022', '11/08/2022', '10/10/2023',\n",
       "       '11/07/2023', '03/05/2024', '05/14/2024'],\n",
       "      dtype='object')"
      ]
     },
     "execution_count": 110,
     "metadata": {},
     "output_type": "execute_result"
    }
   ],
   "source": [
    "wake_voters.columns"
   ]
  },
  {
   "cell_type": "code",
   "execution_count": 298,
   "id": "5c3414cc",
   "metadata": {},
   "outputs": [
    {
     "data": {
      "text/html": [
       "<div>\n",
       "<style scoped>\n",
       "    .dataframe tbody tr th:only-of-type {\n",
       "        vertical-align: middle;\n",
       "    }\n",
       "\n",
       "    .dataframe tbody tr th {\n",
       "        vertical-align: top;\n",
       "    }\n",
       "\n",
       "    .dataframe thead th {\n",
       "        text-align: right;\n",
       "    }\n",
       "</style>\n",
       "<table border=\"1\" class=\"dataframe\">\n",
       "  <thead>\n",
       "    <tr style=\"text-align: right;\">\n",
       "      <th></th>\n",
       "      <th>county_name</th>\n",
       "      <th>ReportDate</th>\n",
       "      <th>voter_reg_num</th>\n",
       "      <th>status_lbl</th>\n",
       "      <th>last_name</th>\n",
       "      <th>first_name</th>\n",
       "      <th>middle_name</th>\n",
       "      <th>name_suffix_lbl</th>\n",
       "      <th>house_num</th>\n",
       "      <th>half_code</th>\n",
       "      <th>...</th>\n",
       "      <th>11/03/2020</th>\n",
       "      <th>10/05/2021</th>\n",
       "      <th>11/02/2021</th>\n",
       "      <th>05/17/2022</th>\n",
       "      <th>07/26/2022</th>\n",
       "      <th>11/08/2022</th>\n",
       "      <th>10/10/2023</th>\n",
       "      <th>11/07/2023</th>\n",
       "      <th>03/05/2024</th>\n",
       "      <th>05/14/2024</th>\n",
       "    </tr>\n",
       "  </thead>\n",
       "  <tbody>\n",
       "    <tr>\n",
       "      <th>0</th>\n",
       "      <td>WAKE</td>\n",
       "      <td>2024-10-07</td>\n",
       "      <td>100928943</td>\n",
       "      <td>A</td>\n",
       "      <td>ABERCOMBIE</td>\n",
       "      <td>EWAN</td>\n",
       "      <td>MARTIN</td>\n",
       "      <td>NaN</td>\n",
       "      <td>0</td>\n",
       "      <td>NaN</td>\n",
       "      <td>...</td>\n",
       "      <td>NaN</td>\n",
       "      <td>NaN</td>\n",
       "      <td>NaN</td>\n",
       "      <td>NaN</td>\n",
       "      <td>NaN</td>\n",
       "      <td>NaN</td>\n",
       "      <td>NaN</td>\n",
       "      <td>NaN</td>\n",
       "      <td>NaN</td>\n",
       "      <td>NaN</td>\n",
       "    </tr>\n",
       "    <tr>\n",
       "      <th>1</th>\n",
       "      <td>WAKE</td>\n",
       "      <td>2024-10-07</td>\n",
       "      <td>100930052</td>\n",
       "      <td>A</td>\n",
       "      <td>ACOSTA GUASTELLA</td>\n",
       "      <td>NICOLE</td>\n",
       "      <td>NaN</td>\n",
       "      <td>NaN</td>\n",
       "      <td>113</td>\n",
       "      <td>NaN</td>\n",
       "      <td>...</td>\n",
       "      <td>NaN</td>\n",
       "      <td>NaN</td>\n",
       "      <td>NaN</td>\n",
       "      <td>NaN</td>\n",
       "      <td>NaN</td>\n",
       "      <td>NaN</td>\n",
       "      <td>NaN</td>\n",
       "      <td>NaN</td>\n",
       "      <td>NaN</td>\n",
       "      <td>NaN</td>\n",
       "    </tr>\n",
       "    <tr>\n",
       "      <th>2</th>\n",
       "      <td>WAKE</td>\n",
       "      <td>2024-10-07</td>\n",
       "      <td>10165132</td>\n",
       "      <td>A</td>\n",
       "      <td>ADAMS</td>\n",
       "      <td>DOROTA</td>\n",
       "      <td>TULODZIECKA</td>\n",
       "      <td>NaN</td>\n",
       "      <td>308</td>\n",
       "      <td>NaN</td>\n",
       "      <td>...</td>\n",
       "      <td>M</td>\n",
       "      <td>NaN</td>\n",
       "      <td>NaN</td>\n",
       "      <td>NaN</td>\n",
       "      <td>NaN</td>\n",
       "      <td>M</td>\n",
       "      <td>NaN</td>\n",
       "      <td>NaN</td>\n",
       "      <td>NaN</td>\n",
       "      <td>NaN</td>\n",
       "    </tr>\n",
       "    <tr>\n",
       "      <th>3</th>\n",
       "      <td>WAKE</td>\n",
       "      <td>2024-10-07</td>\n",
       "      <td>27940</td>\n",
       "      <td>A</td>\n",
       "      <td>ADAMS</td>\n",
       "      <td>JEFFERSON</td>\n",
       "      <td>HODGES</td>\n",
       "      <td>NaN</td>\n",
       "      <td>308</td>\n",
       "      <td>NaN</td>\n",
       "      <td>...</td>\n",
       "      <td>M</td>\n",
       "      <td>NaN</td>\n",
       "      <td>NaN</td>\n",
       "      <td>NaN</td>\n",
       "      <td>NaN</td>\n",
       "      <td>M</td>\n",
       "      <td>NaN</td>\n",
       "      <td>NaN</td>\n",
       "      <td>NaN</td>\n",
       "      <td>NaN</td>\n",
       "    </tr>\n",
       "    <tr>\n",
       "      <th>4</th>\n",
       "      <td>WAKE</td>\n",
       "      <td>2024-10-07</td>\n",
       "      <td>100751700</td>\n",
       "      <td>A</td>\n",
       "      <td>ADAMS</td>\n",
       "      <td>KATHRYN</td>\n",
       "      <td>BLAIR</td>\n",
       "      <td>NaN</td>\n",
       "      <td>2501</td>\n",
       "      <td>NaN</td>\n",
       "      <td>...</td>\n",
       "      <td>M</td>\n",
       "      <td>NaN</td>\n",
       "      <td>NaN</td>\n",
       "      <td>NaN</td>\n",
       "      <td>NaN</td>\n",
       "      <td>O</td>\n",
       "      <td>NaN</td>\n",
       "      <td>NaN</td>\n",
       "      <td>NaN</td>\n",
       "      <td>NaN</td>\n",
       "    </tr>\n",
       "  </tbody>\n",
       "</table>\n",
       "<p>5 rows × 58 columns</p>\n",
       "</div>"
      ],
      "text/plain": [
       "  county_name ReportDate  voter_reg_num status_lbl         last_name  \\\n",
       "0        WAKE 2024-10-07      100928943          A        ABERCOMBIE   \n",
       "1        WAKE 2024-10-07      100930052          A  ACOSTA GUASTELLA   \n",
       "2        WAKE 2024-10-07       10165132          A             ADAMS   \n",
       "3        WAKE 2024-10-07          27940          A             ADAMS   \n",
       "4        WAKE 2024-10-07      100751700          A             ADAMS   \n",
       "\n",
       "  first_name  middle_name name_suffix_lbl  house_num half_code  ...  \\\n",
       "0       EWAN       MARTIN             NaN          0       NaN  ...   \n",
       "1     NICOLE          NaN             NaN        113       NaN  ...   \n",
       "2     DOROTA  TULODZIECKA             NaN        308       NaN  ...   \n",
       "3  JEFFERSON       HODGES             NaN        308       NaN  ...   \n",
       "4    KATHRYN        BLAIR             NaN       2501       NaN  ...   \n",
       "\n",
       "  11/03/2020 10/05/2021 11/02/2021 05/17/2022  07/26/2022 11/08/2022  \\\n",
       "0        NaN        NaN        NaN        NaN         NaN        NaN   \n",
       "1        NaN        NaN        NaN        NaN         NaN        NaN   \n",
       "2          M        NaN        NaN        NaN         NaN          M   \n",
       "3          M        NaN        NaN        NaN         NaN          M   \n",
       "4          M        NaN        NaN        NaN         NaN          O   \n",
       "\n",
       "  10/10/2023 11/07/2023  03/05/2024 05/14/2024  \n",
       "0        NaN        NaN         NaN        NaN  \n",
       "1        NaN        NaN         NaN        NaN  \n",
       "2        NaN        NaN         NaN        NaN  \n",
       "3        NaN        NaN         NaN        NaN  \n",
       "4        NaN        NaN         NaN        NaN  \n",
       "\n",
       "[5 rows x 58 columns]"
      ]
     },
     "execution_count": 298,
     "metadata": {},
     "output_type": "execute_result"
    }
   ],
   "source": [
    "wake_voters.head()"
   ]
  },
  {
   "cell_type": "markdown",
   "id": "083c88b6",
   "metadata": {},
   "source": [
    "Step 3: Filter voters for only active voters and those that registered before the 11/03/2020 election"
   ]
  },
  {
   "cell_type": "code",
   "execution_count": 299,
   "id": "eaae7061",
   "metadata": {},
   "outputs": [
    {
     "data": {
      "text/plain": [
       "county_name                           object\n",
       "ReportDate                    datetime64[ns]\n",
       "voter_reg_num                          int64\n",
       "status_lbl                            object\n",
       "last_name                             object\n",
       "first_name                            object\n",
       "middle_name                           object\n",
       "name_suffix_lbl                       object\n",
       "house_num                              int64\n",
       "half_code                             object\n",
       "street_dir_lbl                        object\n",
       "street_name                           object\n",
       "street_type_lbl                       object\n",
       "street_suffix_lbl                     object\n",
       "unit_designator                      float64\n",
       "unit_num_str                          object\n",
       "city                                  object\n",
       "state                                 object\n",
       "zip                                    int64\n",
       "mail_addr1                            object\n",
       "mail_addr2                            object\n",
       "mail_addr3                            object\n",
       "mail_addr4                            object\n",
       "mail_city                             object\n",
       "mail_state                            object\n",
       "mail_zip                             float64\n",
       "race_lbl                              object\n",
       "party_lbl                             object\n",
       "gender_lbl                            object\n",
       "registration_dt               datetime64[ns]\n",
       "eoy_age                                int64\n",
       "precinct_lbl                          object\n",
       "municipality_lbl                      object\n",
       "ward_lbl                              object\n",
       "congressional_district_lbl             int64\n",
       "superior_court_lbl                    object\n",
       "judicial_district_lbl                 object\n",
       "nc_senate_lbl                          int64\n",
       "nc_house_lbl                           int64\n",
       "county_commissioner_lbl                int64\n",
       "school_lbl                             int64\n",
       "prosecutorial_lbl                      int64\n",
       "voting_district_lbl                   object\n",
       "05/08/2018                            object\n",
       "11/06/2018                            object\n",
       "10/08/2019                            object\n",
       "11/05/2019                            object\n",
       "03/03/2020                            object\n",
       "11/03/2020                            object\n",
       "10/05/2021                            object\n",
       "11/02/2021                            object\n",
       "05/17/2022                            object\n",
       "07/26/2022                            object\n",
       "11/08/2022                            object\n",
       "10/10/2023                            object\n",
       "11/07/2023                            object\n",
       "03/05/2024                            object\n",
       "05/14/2024                            object\n",
       "dtype: object"
      ]
     },
     "execution_count": 299,
     "metadata": {},
     "output_type": "execute_result"
    }
   ],
   "source": [
    "wake_voters.dtypes"
   ]
  },
  {
   "cell_type": "code",
   "execution_count": 300,
   "id": "8aaaafcf",
   "metadata": {},
   "outputs": [],
   "source": [
    "wake_voters['registration_dt'] = pd.to_datetime(wake_voters['registration_dt'])"
   ]
  },
  {
   "cell_type": "code",
   "execution_count": 301,
   "id": "43864c42",
   "metadata": {},
   "outputs": [],
   "source": [
    "active_voters = wake_voters[(wake_voters.status_lbl == 'A') & (wake_voters.registration_dt < '11/03/2020')]"
   ]
  },
  {
   "cell_type": "markdown",
   "id": "8d07cb5a",
   "metadata": {},
   "source": [
    "Step 4: Replace any lookup codes with actual values"
   ]
  },
  {
   "cell_type": "code",
   "execution_count": 302,
   "id": "d3f1398d",
   "metadata": {},
   "outputs": [
    {
     "data": {
      "text/html": [
       "<div>\n",
       "<style scoped>\n",
       "    .dataframe tbody tr th:only-of-type {\n",
       "        vertical-align: middle;\n",
       "    }\n",
       "\n",
       "    .dataframe tbody tr th {\n",
       "        vertical-align: top;\n",
       "    }\n",
       "\n",
       "    .dataframe thead th {\n",
       "        text-align: right;\n",
       "    }\n",
       "</style>\n",
       "<table border=\"1\" class=\"dataframe\">\n",
       "  <thead>\n",
       "    <tr style=\"text-align: right;\">\n",
       "      <th></th>\n",
       "      <th>county_name</th>\n",
       "      <th>ReportDate</th>\n",
       "      <th>voter_reg_num</th>\n",
       "      <th>status_lbl</th>\n",
       "      <th>last_name</th>\n",
       "      <th>first_name</th>\n",
       "      <th>middle_name</th>\n",
       "      <th>name_suffix_lbl</th>\n",
       "      <th>house_num</th>\n",
       "      <th>half_code</th>\n",
       "      <th>...</th>\n",
       "      <th>11/03/2020</th>\n",
       "      <th>10/05/2021</th>\n",
       "      <th>11/02/2021</th>\n",
       "      <th>05/17/2022</th>\n",
       "      <th>07/26/2022</th>\n",
       "      <th>11/08/2022</th>\n",
       "      <th>10/10/2023</th>\n",
       "      <th>11/07/2023</th>\n",
       "      <th>03/05/2024</th>\n",
       "      <th>05/14/2024</th>\n",
       "    </tr>\n",
       "  </thead>\n",
       "  <tbody>\n",
       "    <tr>\n",
       "      <th>2</th>\n",
       "      <td>WAKE</td>\n",
       "      <td>2024-10-07</td>\n",
       "      <td>10165132</td>\n",
       "      <td>A</td>\n",
       "      <td>ADAMS</td>\n",
       "      <td>DOROTA</td>\n",
       "      <td>TULODZIECKA</td>\n",
       "      <td>NaN</td>\n",
       "      <td>308</td>\n",
       "      <td>NaN</td>\n",
       "      <td>...</td>\n",
       "      <td>M</td>\n",
       "      <td>NaN</td>\n",
       "      <td>NaN</td>\n",
       "      <td>NaN</td>\n",
       "      <td>NaN</td>\n",
       "      <td>M</td>\n",
       "      <td>NaN</td>\n",
       "      <td>NaN</td>\n",
       "      <td>NaN</td>\n",
       "      <td>NaN</td>\n",
       "    </tr>\n",
       "    <tr>\n",
       "      <th>3</th>\n",
       "      <td>WAKE</td>\n",
       "      <td>2024-10-07</td>\n",
       "      <td>27940</td>\n",
       "      <td>A</td>\n",
       "      <td>ADAMS</td>\n",
       "      <td>JEFFERSON</td>\n",
       "      <td>HODGES</td>\n",
       "      <td>NaN</td>\n",
       "      <td>308</td>\n",
       "      <td>NaN</td>\n",
       "      <td>...</td>\n",
       "      <td>M</td>\n",
       "      <td>NaN</td>\n",
       "      <td>NaN</td>\n",
       "      <td>NaN</td>\n",
       "      <td>NaN</td>\n",
       "      <td>M</td>\n",
       "      <td>NaN</td>\n",
       "      <td>NaN</td>\n",
       "      <td>NaN</td>\n",
       "      <td>NaN</td>\n",
       "    </tr>\n",
       "    <tr>\n",
       "      <th>4</th>\n",
       "      <td>WAKE</td>\n",
       "      <td>2024-10-07</td>\n",
       "      <td>100751700</td>\n",
       "      <td>A</td>\n",
       "      <td>ADAMS</td>\n",
       "      <td>KATHRYN</td>\n",
       "      <td>BLAIR</td>\n",
       "      <td>NaN</td>\n",
       "      <td>2501</td>\n",
       "      <td>NaN</td>\n",
       "      <td>...</td>\n",
       "      <td>M</td>\n",
       "      <td>NaN</td>\n",
       "      <td>NaN</td>\n",
       "      <td>NaN</td>\n",
       "      <td>NaN</td>\n",
       "      <td>O</td>\n",
       "      <td>NaN</td>\n",
       "      <td>NaN</td>\n",
       "      <td>NaN</td>\n",
       "      <td>NaN</td>\n",
       "    </tr>\n",
       "    <tr>\n",
       "      <th>6</th>\n",
       "      <td>WAKE</td>\n",
       "      <td>2024-10-07</td>\n",
       "      <td>100569749</td>\n",
       "      <td>A</td>\n",
       "      <td>ADILETTA</td>\n",
       "      <td>LAUREN</td>\n",
       "      <td>ELIZABETH</td>\n",
       "      <td>NaN</td>\n",
       "      <td>401</td>\n",
       "      <td>NaN</td>\n",
       "      <td>...</td>\n",
       "      <td>M</td>\n",
       "      <td>NaN</td>\n",
       "      <td>NaN</td>\n",
       "      <td>NaN</td>\n",
       "      <td>NaN</td>\n",
       "      <td>NaN</td>\n",
       "      <td>NaN</td>\n",
       "      <td>NaN</td>\n",
       "      <td>NaN</td>\n",
       "      <td>NaN</td>\n",
       "    </tr>\n",
       "    <tr>\n",
       "      <th>7</th>\n",
       "      <td>WAKE</td>\n",
       "      <td>2024-10-07</td>\n",
       "      <td>31209633</td>\n",
       "      <td>A</td>\n",
       "      <td>AKRIDGE</td>\n",
       "      <td>SHIRLEY</td>\n",
       "      <td>A</td>\n",
       "      <td>NaN</td>\n",
       "      <td>1100</td>\n",
       "      <td>NaN</td>\n",
       "      <td>...</td>\n",
       "      <td>O</td>\n",
       "      <td>NaN</td>\n",
       "      <td>NaN</td>\n",
       "      <td>NaN</td>\n",
       "      <td>NaN</td>\n",
       "      <td>NaN</td>\n",
       "      <td>NaN</td>\n",
       "      <td>NaN</td>\n",
       "      <td>NaN</td>\n",
       "      <td>NaN</td>\n",
       "    </tr>\n",
       "    <tr>\n",
       "      <th>...</th>\n",
       "      <td>...</td>\n",
       "      <td>...</td>\n",
       "      <td>...</td>\n",
       "      <td>...</td>\n",
       "      <td>...</td>\n",
       "      <td>...</td>\n",
       "      <td>...</td>\n",
       "      <td>...</td>\n",
       "      <td>...</td>\n",
       "      <td>...</td>\n",
       "      <td>...</td>\n",
       "      <td>...</td>\n",
       "      <td>...</td>\n",
       "      <td>...</td>\n",
       "      <td>...</td>\n",
       "      <td>...</td>\n",
       "      <td>...</td>\n",
       "      <td>...</td>\n",
       "      <td>...</td>\n",
       "      <td>...</td>\n",
       "      <td>...</td>\n",
       "    </tr>\n",
       "    <tr>\n",
       "      <th>850681</th>\n",
       "      <td>WAKE</td>\n",
       "      <td>2024-10-07</td>\n",
       "      <td>100391812</td>\n",
       "      <td>A</td>\n",
       "      <td>ZUBER</td>\n",
       "      <td>THOMAS</td>\n",
       "      <td>JOHN</td>\n",
       "      <td>NaN</td>\n",
       "      <td>103</td>\n",
       "      <td>NaN</td>\n",
       "      <td>...</td>\n",
       "      <td>O</td>\n",
       "      <td>NaN</td>\n",
       "      <td>NaN</td>\n",
       "      <td>NaN</td>\n",
       "      <td>NaN</td>\n",
       "      <td>O</td>\n",
       "      <td>NaN</td>\n",
       "      <td>NaN</td>\n",
       "      <td>NaN</td>\n",
       "      <td>NaN</td>\n",
       "    </tr>\n",
       "    <tr>\n",
       "      <th>850682</th>\n",
       "      <td>WAKE</td>\n",
       "      <td>2024-10-07</td>\n",
       "      <td>100416381</td>\n",
       "      <td>A</td>\n",
       "      <td>ZUBER</td>\n",
       "      <td>THOMAS</td>\n",
       "      <td>JOHN</td>\n",
       "      <td>II</td>\n",
       "      <td>103</td>\n",
       "      <td>NaN</td>\n",
       "      <td>...</td>\n",
       "      <td>M</td>\n",
       "      <td>NaN</td>\n",
       "      <td>NaN</td>\n",
       "      <td>NaN</td>\n",
       "      <td>NaN</td>\n",
       "      <td>NaN</td>\n",
       "      <td>NaN</td>\n",
       "      <td>NaN</td>\n",
       "      <td>NaN</td>\n",
       "      <td>NaN</td>\n",
       "    </tr>\n",
       "    <tr>\n",
       "      <th>850683</th>\n",
       "      <td>WAKE</td>\n",
       "      <td>2024-10-07</td>\n",
       "      <td>100818480</td>\n",
       "      <td>A</td>\n",
       "      <td>ZUGASTI</td>\n",
       "      <td>ALFREDO</td>\n",
       "      <td>NaN</td>\n",
       "      <td>NaN</td>\n",
       "      <td>1365</td>\n",
       "      <td>NaN</td>\n",
       "      <td>...</td>\n",
       "      <td>O</td>\n",
       "      <td>NaN</td>\n",
       "      <td>NaN</td>\n",
       "      <td>V</td>\n",
       "      <td>NaN</td>\n",
       "      <td>O</td>\n",
       "      <td>NaN</td>\n",
       "      <td>V</td>\n",
       "      <td>NaN</td>\n",
       "      <td>NaN</td>\n",
       "    </tr>\n",
       "    <tr>\n",
       "      <th>850685</th>\n",
       "      <td>WAKE</td>\n",
       "      <td>2024-10-07</td>\n",
       "      <td>100447367</td>\n",
       "      <td>A</td>\n",
       "      <td>ZYGMOND</td>\n",
       "      <td>BART</td>\n",
       "      <td>STEPHEN</td>\n",
       "      <td>NaN</td>\n",
       "      <td>526</td>\n",
       "      <td>NaN</td>\n",
       "      <td>...</td>\n",
       "      <td>O</td>\n",
       "      <td>NaN</td>\n",
       "      <td>NaN</td>\n",
       "      <td>NaN</td>\n",
       "      <td>NaN</td>\n",
       "      <td>O</td>\n",
       "      <td>NaN</td>\n",
       "      <td>NaN</td>\n",
       "      <td>EV</td>\n",
       "      <td>NaN</td>\n",
       "    </tr>\n",
       "    <tr>\n",
       "      <th>850687</th>\n",
       "      <td>WAKE</td>\n",
       "      <td>2024-10-07</td>\n",
       "      <td>100444919</td>\n",
       "      <td>A</td>\n",
       "      <td>ZYGMOND</td>\n",
       "      <td>JENIFER</td>\n",
       "      <td>ANDREA</td>\n",
       "      <td>NaN</td>\n",
       "      <td>526</td>\n",
       "      <td>NaN</td>\n",
       "      <td>...</td>\n",
       "      <td>O</td>\n",
       "      <td>NaN</td>\n",
       "      <td>NaN</td>\n",
       "      <td>NaN</td>\n",
       "      <td>NaN</td>\n",
       "      <td>O</td>\n",
       "      <td>NaN</td>\n",
       "      <td>NaN</td>\n",
       "      <td>EV</td>\n",
       "      <td>NaN</td>\n",
       "    </tr>\n",
       "  </tbody>\n",
       "</table>\n",
       "<p>563901 rows × 58 columns</p>\n",
       "</div>"
      ],
      "text/plain": [
       "       county_name ReportDate  voter_reg_num status_lbl last_name first_name  \\\n",
       "2             WAKE 2024-10-07       10165132          A     ADAMS     DOROTA   \n",
       "3             WAKE 2024-10-07          27940          A     ADAMS  JEFFERSON   \n",
       "4             WAKE 2024-10-07      100751700          A     ADAMS    KATHRYN   \n",
       "6             WAKE 2024-10-07      100569749          A  ADILETTA     LAUREN   \n",
       "7             WAKE 2024-10-07       31209633          A   AKRIDGE    SHIRLEY   \n",
       "...            ...        ...            ...        ...       ...        ...   \n",
       "850681        WAKE 2024-10-07      100391812          A     ZUBER     THOMAS   \n",
       "850682        WAKE 2024-10-07      100416381          A     ZUBER     THOMAS   \n",
       "850683        WAKE 2024-10-07      100818480          A   ZUGASTI    ALFREDO   \n",
       "850685        WAKE 2024-10-07      100447367          A   ZYGMOND       BART   \n",
       "850687        WAKE 2024-10-07      100444919          A   ZYGMOND    JENIFER   \n",
       "\n",
       "        middle_name name_suffix_lbl  house_num half_code  ... 11/03/2020  \\\n",
       "2       TULODZIECKA             NaN        308       NaN  ...          M   \n",
       "3            HODGES             NaN        308       NaN  ...          M   \n",
       "4             BLAIR             NaN       2501       NaN  ...          M   \n",
       "6         ELIZABETH             NaN        401       NaN  ...          M   \n",
       "7                 A             NaN       1100       NaN  ...          O   \n",
       "...             ...             ...        ...       ...  ...        ...   \n",
       "850681         JOHN             NaN        103       NaN  ...          O   \n",
       "850682         JOHN              II        103       NaN  ...          M   \n",
       "850683          NaN             NaN       1365       NaN  ...          O   \n",
       "850685      STEPHEN             NaN        526       NaN  ...          O   \n",
       "850687       ANDREA             NaN        526       NaN  ...          O   \n",
       "\n",
       "       10/05/2021 11/02/2021 05/17/2022  07/26/2022 11/08/2022 10/10/2023  \\\n",
       "2             NaN        NaN        NaN         NaN          M        NaN   \n",
       "3             NaN        NaN        NaN         NaN          M        NaN   \n",
       "4             NaN        NaN        NaN         NaN          O        NaN   \n",
       "6             NaN        NaN        NaN         NaN        NaN        NaN   \n",
       "7             NaN        NaN        NaN         NaN        NaN        NaN   \n",
       "...           ...        ...        ...         ...        ...        ...   \n",
       "850681        NaN        NaN        NaN         NaN          O        NaN   \n",
       "850682        NaN        NaN        NaN         NaN        NaN        NaN   \n",
       "850683        NaN        NaN          V         NaN          O        NaN   \n",
       "850685        NaN        NaN        NaN         NaN          O        NaN   \n",
       "850687        NaN        NaN        NaN         NaN          O        NaN   \n",
       "\n",
       "       11/07/2023  03/05/2024 05/14/2024  \n",
       "2             NaN         NaN        NaN  \n",
       "3             NaN         NaN        NaN  \n",
       "4             NaN         NaN        NaN  \n",
       "6             NaN         NaN        NaN  \n",
       "7             NaN         NaN        NaN  \n",
       "...           ...         ...        ...  \n",
       "850681        NaN         NaN        NaN  \n",
       "850682        NaN         NaN        NaN  \n",
       "850683          V         NaN        NaN  \n",
       "850685        NaN          EV        NaN  \n",
       "850687        NaN          EV        NaN  \n",
       "\n",
       "[563901 rows x 58 columns]"
      ]
     },
     "execution_count": 302,
     "metadata": {},
     "output_type": "execute_result"
    }
   ],
   "source": [
    "active_voters"
   ]
  },
  {
   "cell_type": "code",
   "execution_count": 303,
   "id": "3f319ff9",
   "metadata": {},
   "outputs": [
    {
     "data": {
      "text/plain": [
       "UNA    227774\n",
       "DEM    201389\n",
       "REP    130389\n",
       "LIB      3402\n",
       "NLB       784\n",
       "GRE       128\n",
       "WTP        24\n",
       "JFA         6\n",
       "CST         5\n",
       "Name: party_lbl, dtype: int64"
      ]
     },
     "execution_count": 303,
     "metadata": {},
     "output_type": "execute_result"
    }
   ],
   "source": [
    "active_voters.party_lbl.value_counts()"
   ]
  },
  {
   "cell_type": "code",
   "execution_count": 304,
   "id": "0d643095",
   "metadata": {},
   "outputs": [
    {
     "data": {
      "text/plain": [
       "array(['DEM', 'UNA', 'REP', 'LIB', 'NLB', 'GRE', 'JFA', 'WTP', 'CST'],\n",
       "      dtype=object)"
      ]
     },
     "execution_count": 304,
     "metadata": {},
     "output_type": "execute_result"
    }
   ],
   "source": [
    "active_voters.party_lbl.unique()"
   ]
  },
  {
   "cell_type": "code",
   "execution_count": 305,
   "id": "2e7c9a2d",
   "metadata": {},
   "outputs": [
    {
     "name": "stderr",
     "output_type": "stream",
     "text": [
      "/opt/anaconda3/lib/python3.9/site-packages/pandas/core/generic.py:6619: SettingWithCopyWarning: \n",
      "A value is trying to be set on a copy of a slice from a DataFrame\n",
      "\n",
      "See the caveats in the documentation: https://pandas.pydata.org/pandas-docs/stable/user_guide/indexing.html#returning-a-view-versus-a-copy\n",
      "  return self._update_inplace(result)\n"
     ]
    }
   ],
   "source": [
    "active_voters.party_lbl.replace(['LIB', 'NLB', 'GRE', 'JFA', 'WTP', 'CST'], 'OTHER', inplace=True)"
   ]
  },
  {
   "cell_type": "code",
   "execution_count": 306,
   "id": "852016ec",
   "metadata": {},
   "outputs": [
    {
     "data": {
      "text/plain": [
       "array(['DEM', 'UNA', 'REP', 'OTHER'], dtype=object)"
      ]
     },
     "execution_count": 306,
     "metadata": {},
     "output_type": "execute_result"
    }
   ],
   "source": [
    "active_voters.party_lbl.unique()"
   ]
  },
  {
   "cell_type": "code",
   "execution_count": 307,
   "id": "d7373827",
   "metadata": {},
   "outputs": [],
   "source": [
    "active_voters.party_lbl.replace({'DEM': 'DEMOCRAT', 'REP': 'REPUBLICAN', 'UNA': 'UNAFFILIATED'}, inplace=True)"
   ]
  },
  {
   "cell_type": "code",
   "execution_count": 308,
   "id": "5778b442",
   "metadata": {},
   "outputs": [],
   "source": [
    "active_voters.status_lbl.replace(['A'], 'Active', inplace=True)"
   ]
  },
  {
   "cell_type": "code",
   "execution_count": 309,
   "id": "aa1125e2",
   "metadata": {},
   "outputs": [
    {
     "data": {
      "text/plain": [
       "array(['W', 'B', 'U', 'I', 'O', 'A', 'M', 'P'], dtype=object)"
      ]
     },
     "execution_count": 309,
     "metadata": {},
     "output_type": "execute_result"
    }
   ],
   "source": [
    "active_voters.race_lbl.unique()"
   ]
  },
  {
   "cell_type": "code",
   "execution_count": 310,
   "id": "06b83aab",
   "metadata": {},
   "outputs": [
    {
     "data": {
      "text/plain": [
       "W    362598\n",
       "B    100068\n",
       "U     49497\n",
       "O     24503\n",
       "A     22148\n",
       "M      3679\n",
       "I      1378\n",
       "P        30\n",
       "Name: race_lbl, dtype: int64"
      ]
     },
     "execution_count": 310,
     "metadata": {},
     "output_type": "execute_result"
    }
   ],
   "source": [
    "active_voters.race_lbl.value_counts()"
   ]
  },
  {
   "cell_type": "code",
   "execution_count": 311,
   "id": "56f6ff58",
   "metadata": {},
   "outputs": [],
   "source": [
    "active_voters.race_lbl.replace(['U', 'O', 'M', 'I', 'P'], 'OTHER', inplace=True)"
   ]
  },
  {
   "cell_type": "code",
   "execution_count": 312,
   "id": "fc40af55",
   "metadata": {},
   "outputs": [],
   "source": [
    "active_voters.race_lbl.replace({'W': 'White', 'B': 'Black', 'A': 'Asian'}, inplace=True)"
   ]
  },
  {
   "cell_type": "code",
   "execution_count": 313,
   "id": "83b1bc78",
   "metadata": {},
   "outputs": [
    {
     "data": {
      "text/plain": [
       "array(['F', 'M', 'U'], dtype=object)"
      ]
     },
     "execution_count": 313,
     "metadata": {},
     "output_type": "execute_result"
    }
   ],
   "source": [
    "active_voters.gender_lbl.unique()"
   ]
  },
  {
   "cell_type": "code",
   "execution_count": 314,
   "id": "8ca6c7c4",
   "metadata": {},
   "outputs": [],
   "source": [
    "active_voters.gender_lbl.replace({'F': 'FEMALE', 'M': 'MALE', 'U': 'UKNOWN'}, inplace=True)"
   ]
  },
  {
   "cell_type": "code",
   "execution_count": 315,
   "id": "e6a314f9",
   "metadata": {},
   "outputs": [
    {
     "data": {
      "text/plain": [
       "array([ 2, 13,  4])"
      ]
     },
     "execution_count": 315,
     "metadata": {},
     "output_type": "execute_result"
    }
   ],
   "source": [
    "active_voters.congressional_district_lbl.unique()"
   ]
  },
  {
   "cell_type": "markdown",
   "id": "1bcc76b6",
   "metadata": {},
   "source": [
    "Step 6: Drop all the other vote dates"
   ]
  },
  {
   "cell_type": "code",
   "execution_count": 316,
   "id": "0509c77f",
   "metadata": {},
   "outputs": [
    {
     "name": "stderr",
     "output_type": "stream",
     "text": [
      "/opt/anaconda3/lib/python3.9/site-packages/pandas/core/frame.py:4906: SettingWithCopyWarning: \n",
      "A value is trying to be set on a copy of a slice from a DataFrame\n",
      "\n",
      "See the caveats in the documentation: https://pandas.pydata.org/pandas-docs/stable/user_guide/indexing.html#returning-a-view-versus-a-copy\n",
      "  return super().drop(\n"
     ]
    }
   ],
   "source": [
    "active_voters.drop(columns=['05/08/2018', '11/06/2018','10/08/2019', '11/05/2019', '03/03/2020','10/05/2021', '11/02/2021', '05/17/2022', '07/26/2022', '11/08/2022', '10/10/2023', '11/07/2023', '03/05/2024', '05/14/2024'], inplace=True)"
   ]
  },
  {
   "cell_type": "markdown",
   "id": "d833b3a2",
   "metadata": {},
   "source": [
    "Step 7: Turn the 2020 election date into a binary variable"
   ]
  },
  {
   "cell_type": "code",
   "execution_count": 317,
   "id": "0f97aa98",
   "metadata": {},
   "outputs": [
    {
     "data": {
      "text/plain": [
       "array(['M', 'O', nan, 'V', 'P'], dtype=object)"
      ]
     },
     "execution_count": 317,
     "metadata": {},
     "output_type": "execute_result"
    }
   ],
   "source": [
    "active_voters['11/03/2020'].unique()"
   ]
  },
  {
   "cell_type": "code",
   "execution_count": 318,
   "id": "79a9e734",
   "metadata": {},
   "outputs": [
    {
     "name": "stderr",
     "output_type": "stream",
     "text": [
      "/opt/anaconda3/lib/python3.9/site-packages/pandas/core/generic.py:6392: SettingWithCopyWarning: \n",
      "A value is trying to be set on a copy of a slice from a DataFrame\n",
      "\n",
      "See the caveats in the documentation: https://pandas.pydata.org/pandas-docs/stable/user_guide/indexing.html#returning-a-view-versus-a-copy\n",
      "  return self._update_inplace(result)\n"
     ]
    }
   ],
   "source": [
    "active_voters['11/03/2020'].replace(['M', 'O', 'V', 'P'], '1', inplace=True)\n",
    "active_voters['11/03/2020'].fillna('0', inplace=True)"
   ]
  },
  {
   "cell_type": "code",
   "execution_count": 319,
   "id": "b5d3f036",
   "metadata": {},
   "outputs": [
    {
     "data": {
      "text/plain": [
       "1    516640\n",
       "0     47261\n",
       "Name: 11/03/2020, dtype: int64"
      ]
     },
     "execution_count": 319,
     "metadata": {},
     "output_type": "execute_result"
    }
   ],
   "source": [
    "active_voters['11/03/2020'].value_counts()"
   ]
  },
  {
   "cell_type": "markdown",
   "id": "eeeabdc8",
   "metadata": {},
   "source": [
    "Step 8: Find me in the voter dataset!"
   ]
  },
  {
   "cell_type": "code",
   "execution_count": 320,
   "id": "1d2184dc",
   "metadata": {},
   "outputs": [
    {
     "data": {
      "text/html": [
       "<div>\n",
       "<style scoped>\n",
       "    .dataframe tbody tr th:only-of-type {\n",
       "        vertical-align: middle;\n",
       "    }\n",
       "\n",
       "    .dataframe tbody tr th {\n",
       "        vertical-align: top;\n",
       "    }\n",
       "\n",
       "    .dataframe thead th {\n",
       "        text-align: right;\n",
       "    }\n",
       "</style>\n",
       "<table border=\"1\" class=\"dataframe\">\n",
       "  <thead>\n",
       "    <tr style=\"text-align: right;\">\n",
       "      <th></th>\n",
       "      <th>county_name</th>\n",
       "      <th>ReportDate</th>\n",
       "      <th>voter_reg_num</th>\n",
       "      <th>status_lbl</th>\n",
       "      <th>last_name</th>\n",
       "      <th>first_name</th>\n",
       "      <th>middle_name</th>\n",
       "      <th>name_suffix_lbl</th>\n",
       "      <th>house_num</th>\n",
       "      <th>half_code</th>\n",
       "      <th>...</th>\n",
       "      <th>congressional_district_lbl</th>\n",
       "      <th>superior_court_lbl</th>\n",
       "      <th>judicial_district_lbl</th>\n",
       "      <th>nc_senate_lbl</th>\n",
       "      <th>nc_house_lbl</th>\n",
       "      <th>county_commissioner_lbl</th>\n",
       "      <th>school_lbl</th>\n",
       "      <th>prosecutorial_lbl</th>\n",
       "      <th>voting_district_lbl</th>\n",
       "      <th>11/03/2020</th>\n",
       "    </tr>\n",
       "  </thead>\n",
       "  <tbody>\n",
       "    <tr>\n",
       "      <th>680219</th>\n",
       "      <td>WAKE</td>\n",
       "      <td>2024-10-07</td>\n",
       "      <td>100789939</td>\n",
       "      <td>Active</td>\n",
       "      <td>HAND</td>\n",
       "      <td>MICHELLE</td>\n",
       "      <td>THERESE</td>\n",
       "      <td>NaN</td>\n",
       "      <td>1131</td>\n",
       "      <td>NaN</td>\n",
       "      <td>...</td>\n",
       "      <td>2</td>\n",
       "      <td>10A</td>\n",
       "      <td>10E</td>\n",
       "      <td>16</td>\n",
       "      <td>33</td>\n",
       "      <td>4</td>\n",
       "      <td>5</td>\n",
       "      <td>10</td>\n",
       "      <td>18-06</td>\n",
       "      <td>1</td>\n",
       "    </tr>\n",
       "  </tbody>\n",
       "</table>\n",
       "<p>1 rows × 44 columns</p>\n",
       "</div>"
      ],
      "text/plain": [
       "       county_name ReportDate  voter_reg_num status_lbl last_name first_name  \\\n",
       "680219        WAKE 2024-10-07      100789939     Active      HAND   MICHELLE   \n",
       "\n",
       "       middle_name name_suffix_lbl  house_num half_code  ...  \\\n",
       "680219     THERESE             NaN       1131       NaN  ...   \n",
       "\n",
       "       congressional_district_lbl superior_court_lbl judicial_district_lbl  \\\n",
       "680219                          2                10A                   10E   \n",
       "\n",
       "       nc_senate_lbl  nc_house_lbl county_commissioner_lbl school_lbl  \\\n",
       "680219            16            33                       4          5   \n",
       "\n",
       "       prosecutorial_lbl  voting_district_lbl 11/03/2020  \n",
       "680219                10                18-06          1  \n",
       "\n",
       "[1 rows x 44 columns]"
      ]
     },
     "execution_count": 320,
     "metadata": {},
     "output_type": "execute_result"
    }
   ],
   "source": [
    "find_me = active_voters[(active_voters.last_name == 'HAND') & (active_voters.first_name == 'MICHELLE')]\n",
    "find_me"
   ]
  },
  {
   "cell_type": "markdown",
   "id": "e0c426a5",
   "metadata": {},
   "source": [
    "Step 9: Drop columns that provide little predictive value"
   ]
  },
  {
   "cell_type": "code",
   "execution_count": 321,
   "id": "b781d331",
   "metadata": {},
   "outputs": [
    {
     "data": {
      "text/plain": [
       "Index(['county_name', 'ReportDate', 'voter_reg_num', 'status_lbl', 'last_name',\n",
       "       'first_name', 'middle_name', 'name_suffix_lbl', 'house_num',\n",
       "       'half_code', 'street_dir_lbl', 'street_name', 'street_type_lbl',\n",
       "       'street_suffix_lbl', 'unit_designator', 'unit_num_str', 'city', 'state',\n",
       "       'zip', 'mail_addr1', 'mail_addr2', 'mail_addr3', 'mail_addr4',\n",
       "       'mail_city', 'mail_state', 'mail_zip', 'race_lbl', 'party_lbl',\n",
       "       'gender_lbl', 'registration_dt', 'eoy_age', 'precinct_lbl',\n",
       "       'municipality_lbl', 'ward_lbl', 'congressional_district_lbl',\n",
       "       'superior_court_lbl', 'judicial_district_lbl', 'nc_senate_lbl',\n",
       "       'nc_house_lbl', 'county_commissioner_lbl', 'school_lbl',\n",
       "       'prosecutorial_lbl', 'voting_district_lbl', '11/03/2020'],\n",
       "      dtype='object')"
      ]
     },
     "execution_count": 321,
     "metadata": {},
     "output_type": "execute_result"
    }
   ],
   "source": [
    "active_voters.columns"
   ]
  },
  {
   "cell_type": "code",
   "execution_count": 322,
   "id": "31536cf2",
   "metadata": {},
   "outputs": [],
   "source": [
    "active_voters_2020 = active_voters.drop(columns= ['county_name','last_name',\n",
    "       'first_name', 'middle_name', 'name_suffix_lbl', 'house_num',\n",
    "       'half_code', 'street_dir_lbl', 'street_name', 'street_type_lbl',\n",
    "       'street_suffix_lbl', 'unit_designator', 'unit_num_str','mail_addr1', 'mail_addr2', 'mail_addr3', 'mail_addr4',\n",
    "       'mail_city', 'mail_state', 'mail_zip', 'precinct_lbl',\n",
    "       'municipality_lbl', 'ward_lbl','superior_court_lbl', 'judicial_district_lbl','county_commissioner_lbl', 'school_lbl',\n",
    "       'prosecutorial_lbl', 'voting_district_lbl', 'zip', 'state', 'nc_senate_lbl','nc_house_lbl', 'congressional_district_lbl'])"
   ]
  },
  {
   "cell_type": "markdown",
   "id": "025168c0",
   "metadata": {},
   "source": [
    "Step 10: Review null values and provide missing values."
   ]
  },
  {
   "cell_type": "code",
   "execution_count": 323,
   "id": "c261bca4",
   "metadata": {},
   "outputs": [
    {
     "data": {
      "text/plain": [
       "ReportDate         0\n",
       "voter_reg_num      0\n",
       "status_lbl         0\n",
       "city               0\n",
       "race_lbl           0\n",
       "party_lbl          0\n",
       "gender_lbl         0\n",
       "registration_dt    0\n",
       "eoy_age            0\n",
       "11/03/2020         0\n",
       "dtype: int64"
      ]
     },
     "execution_count": 323,
     "metadata": {},
     "output_type": "execute_result"
    }
   ],
   "source": [
    "active_voters_2020.isnull().sum()"
   ]
  },
  {
   "cell_type": "code",
   "execution_count": 324,
   "id": "55b8ada0",
   "metadata": {},
   "outputs": [
    {
     "data": {
      "text/plain": [
       "ReportDate         datetime64[ns]\n",
       "voter_reg_num               int64\n",
       "status_lbl                 object\n",
       "city                       object\n",
       "race_lbl                   object\n",
       "party_lbl                  object\n",
       "gender_lbl                 object\n",
       "registration_dt    datetime64[ns]\n",
       "eoy_age                     int64\n",
       "11/03/2020                 object\n",
       "dtype: object"
      ]
     },
     "execution_count": 324,
     "metadata": {},
     "output_type": "execute_result"
    }
   ],
   "source": [
    "active_voters_2020.dtypes"
   ]
  },
  {
   "cell_type": "markdown",
   "id": "bece1f9f",
   "metadata": {},
   "source": [
    "Step 11. Create new variable that determines the number of years since voter registered. Using report date to subtract from registration date."
   ]
  },
  {
   "cell_type": "code",
   "execution_count": 325,
   "id": "97189a58",
   "metadata": {},
   "outputs": [],
   "source": [
    "import numpy as np\n",
    "active_voters_2020['years_reg'] = (active_voters_2020['ReportDate'] - active_voters_2020['registration_dt'])/np.timedelta64(1,'Y')"
   ]
  },
  {
   "cell_type": "markdown",
   "id": "e18c0100",
   "metadata": {},
   "source": [
    "Step 12: Review categorical variables for city and combine less frequent cities into \"OTHER.\""
   ]
  },
  {
   "cell_type": "code",
   "execution_count": 326,
   "id": "112092e4",
   "metadata": {},
   "outputs": [
    {
     "data": {
      "text/plain": [
       "RALEIGH          267992\n",
       "CARY              80651\n",
       "APEX              45149\n",
       "WAKE FOREST       40410\n",
       "FUQUAY VARINA     27372\n",
       "HOLLY SPRINGS     23118\n",
       "GARNER            18788\n",
       "KNIGHTDALE        16009\n",
       "WENDELL           10989\n",
       "MORRISVILLE       10733\n",
       "ZEBULON            8603\n",
       "WILLOW SPRING      5542\n",
       "ROLESVILLE         4941\n",
       "NEW HILL           1873\n",
       "CLAYTON             512\n",
       "ANGIER              417\n",
       "YOUNGSVILLE         352\n",
       "CREEDMOOR           260\n",
       "DURHAM              190\n",
       "Name: city, dtype: int64"
      ]
     },
     "execution_count": 326,
     "metadata": {},
     "output_type": "execute_result"
    }
   ],
   "source": [
    "active_voters_2020.city.value_counts()"
   ]
  },
  {
   "cell_type": "code",
   "execution_count": 327,
   "id": "82aaa4a9",
   "metadata": {},
   "outputs": [
    {
     "data": {
      "text/plain": [
       "array(['RALEIGH', 'GARNER', 'WAKE FOREST', 'APEX', 'NEW HILL',\n",
       "       'HOLLY SPRINGS', 'CARY', 'MORRISVILLE', 'FUQUAY VARINA', 'DURHAM',\n",
       "       'YOUNGSVILLE', 'ZEBULON', 'WENDELL', 'KNIGHTDALE', 'WILLOW SPRING',\n",
       "       'ANGIER', 'CREEDMOOR', 'CLAYTON', 'ROLESVILLE'], dtype=object)"
      ]
     },
     "execution_count": 327,
     "metadata": {},
     "output_type": "execute_result"
    }
   ],
   "source": [
    "active_voters_2020.city.unique()"
   ]
  },
  {
   "cell_type": "code",
   "execution_count": 328,
   "id": "b7db6413",
   "metadata": {},
   "outputs": [],
   "source": [
    "active_voters_2020.city.replace(['DURHAM','YOUNGSVILLE', 'ZEBULON','CLAYTON', 'ROLESVILLE', 'DURHAM', 'NEW HILL', 'ANGIER', 'WILLOW SPRING', 'HOLLY SPRINGS', 'FUQUAY VARINA', 'GARNER', 'KNIGHTDALE', 'WENDELL', 'MORRISVILLE'], 'OTHER', inplace=True)"
   ]
  },
  {
   "cell_type": "markdown",
   "id": "b34d2077",
   "metadata": {},
   "source": [
    "Step 13: Drop report date and registration date as they are no longer needed."
   ]
  },
  {
   "cell_type": "code",
   "execution_count": 329,
   "id": "8338f68e",
   "metadata": {},
   "outputs": [],
   "source": [
    "active_voters_2020.drop(columns=['ReportDate','status_lbl', 'registration_dt', 'voter_reg_num'], inplace=True)"
   ]
  },
  {
   "cell_type": "code",
   "execution_count": 330,
   "id": "768e5259",
   "metadata": {},
   "outputs": [
    {
     "data": {
      "text/plain": [
       "city           object\n",
       "race_lbl       object\n",
       "party_lbl      object\n",
       "gender_lbl     object\n",
       "eoy_age         int64\n",
       "11/03/2020     object\n",
       "years_reg     float64\n",
       "dtype: object"
      ]
     },
     "execution_count": 330,
     "metadata": {},
     "output_type": "execute_result"
    }
   ],
   "source": [
    "active_voters_2020.dtypes"
   ]
  },
  {
   "cell_type": "markdown",
   "id": "c4dd143c",
   "metadata": {},
   "source": [
    "Step 14: Rename election Date to a Yes/No (1/0) response variable"
   ]
  },
  {
   "cell_type": "code",
   "execution_count": 331,
   "id": "a165ccaf",
   "metadata": {},
   "outputs": [],
   "source": [
    "active_voters_2020['11/03/2020'] = active_voters_2020['11/03/2020'].astype('int64')\n",
    "active_voters_2020.rename(columns={'11/03/2020': 'DidVote'}, inplace=True)"
   ]
  },
  {
   "cell_type": "markdown",
   "id": "19960f9c",
   "metadata": {},
   "source": [
    "Step15: Describe descriptive statistics of numeric variables"
   ]
  },
  {
   "cell_type": "code",
   "execution_count": 332,
   "id": "9d3ac7f8",
   "metadata": {},
   "outputs": [
    {
     "data": {
      "text/plain": [
       "count    563901.000000\n",
       "mean         51.167161\n",
       "std          17.056193\n",
       "min          21.000000\n",
       "25%          37.000000\n",
       "50%          51.000000\n",
       "75%          64.000000\n",
       "max         107.000000\n",
       "Name: eoy_age, dtype: float64"
      ]
     },
     "execution_count": 332,
     "metadata": {},
     "output_type": "execute_result"
    }
   ],
   "source": [
    "active_voters_2020.eoy_age.describe()"
   ]
  },
  {
   "cell_type": "code",
   "execution_count": 333,
   "id": "0a178e4c",
   "metadata": {},
   "outputs": [
    {
     "data": {
      "text/plain": [
       "count    563901.000000\n",
       "mean         16.848909\n",
       "std          12.296316\n",
       "min           3.928897\n",
       "25%           7.088441\n",
       "50%          12.755909\n",
       "75%          23.984065\n",
       "max          72.768092\n",
       "Name: years_reg, dtype: float64"
      ]
     },
     "execution_count": 333,
     "metadata": {},
     "output_type": "execute_result"
    }
   ],
   "source": [
    "active_voters_2020.years_reg.describe()"
   ]
  },
  {
   "cell_type": "markdown",
   "id": "49eda33b",
   "metadata": {},
   "source": [
    "Step 16: Get dummies for categorical variables in dataset"
   ]
  },
  {
   "cell_type": "code",
   "execution_count": 334,
   "id": "f59daac3",
   "metadata": {},
   "outputs": [],
   "source": [
    "predict_data = pd.get_dummies(active_voters_2020)"
   ]
  },
  {
   "cell_type": "code",
   "execution_count": 335,
   "id": "975135f5",
   "metadata": {},
   "outputs": [],
   "source": [
    "predict_data.reset_index(inplace=True)"
   ]
  },
  {
   "cell_type": "code",
   "execution_count": 337,
   "id": "b0dac1c5",
   "metadata": {},
   "outputs": [
    {
     "data": {
      "text/html": [
       "<div>\n",
       "<style scoped>\n",
       "    .dataframe tbody tr th:only-of-type {\n",
       "        vertical-align: middle;\n",
       "    }\n",
       "\n",
       "    .dataframe tbody tr th {\n",
       "        vertical-align: top;\n",
       "    }\n",
       "\n",
       "    .dataframe thead th {\n",
       "        text-align: right;\n",
       "    }\n",
       "</style>\n",
       "<table border=\"1\" class=\"dataframe\">\n",
       "  <thead>\n",
       "    <tr style=\"text-align: right;\">\n",
       "      <th></th>\n",
       "      <th>eoy_age</th>\n",
       "      <th>DidVote</th>\n",
       "      <th>years_reg</th>\n",
       "      <th>city_APEX</th>\n",
       "      <th>city_CARY</th>\n",
       "      <th>city_CREEDMOOR</th>\n",
       "      <th>city_OTHER</th>\n",
       "      <th>city_RALEIGH</th>\n",
       "      <th>city_WAKE FOREST</th>\n",
       "      <th>race_lbl_Asian</th>\n",
       "      <th>race_lbl_Black</th>\n",
       "      <th>race_lbl_OTHER</th>\n",
       "      <th>race_lbl_White</th>\n",
       "      <th>party_lbl_DEMOCRAT</th>\n",
       "      <th>party_lbl_OTHER</th>\n",
       "      <th>party_lbl_REPUBLICAN</th>\n",
       "      <th>party_lbl_UNAFFILIATED</th>\n",
       "      <th>gender_lbl_FEMALE</th>\n",
       "      <th>gender_lbl_MALE</th>\n",
       "      <th>gender_lbl_UKNOWN</th>\n",
       "    </tr>\n",
       "  </thead>\n",
       "  <tbody>\n",
       "    <tr>\n",
       "      <th>0</th>\n",
       "      <td>67</td>\n",
       "      <td>1</td>\n",
       "      <td>33.766607</td>\n",
       "      <td>0</td>\n",
       "      <td>0</td>\n",
       "      <td>0</td>\n",
       "      <td>0</td>\n",
       "      <td>1</td>\n",
       "      <td>0</td>\n",
       "      <td>0</td>\n",
       "      <td>0</td>\n",
       "      <td>0</td>\n",
       "      <td>1</td>\n",
       "      <td>1</td>\n",
       "      <td>0</td>\n",
       "      <td>0</td>\n",
       "      <td>0</td>\n",
       "      <td>1</td>\n",
       "      <td>0</td>\n",
       "      <td>0</td>\n",
       "    </tr>\n",
       "    <tr>\n",
       "      <th>1</th>\n",
       "      <td>68</td>\n",
       "      <td>1</td>\n",
       "      <td>50.766272</td>\n",
       "      <td>0</td>\n",
       "      <td>0</td>\n",
       "      <td>0</td>\n",
       "      <td>0</td>\n",
       "      <td>1</td>\n",
       "      <td>0</td>\n",
       "      <td>0</td>\n",
       "      <td>0</td>\n",
       "      <td>0</td>\n",
       "      <td>1</td>\n",
       "      <td>1</td>\n",
       "      <td>0</td>\n",
       "      <td>0</td>\n",
       "      <td>0</td>\n",
       "      <td>0</td>\n",
       "      <td>1</td>\n",
       "      <td>0</td>\n",
       "    </tr>\n",
       "    <tr>\n",
       "      <th>2</th>\n",
       "      <td>44</td>\n",
       "      <td>1</td>\n",
       "      <td>4.498381</td>\n",
       "      <td>0</td>\n",
       "      <td>0</td>\n",
       "      <td>0</td>\n",
       "      <td>0</td>\n",
       "      <td>1</td>\n",
       "      <td>0</td>\n",
       "      <td>0</td>\n",
       "      <td>0</td>\n",
       "      <td>0</td>\n",
       "      <td>1</td>\n",
       "      <td>1</td>\n",
       "      <td>0</td>\n",
       "      <td>0</td>\n",
       "      <td>0</td>\n",
       "      <td>1</td>\n",
       "      <td>0</td>\n",
       "      <td>0</td>\n",
       "    </tr>\n",
       "    <tr>\n",
       "      <th>3</th>\n",
       "      <td>26</td>\n",
       "      <td>1</td>\n",
       "      <td>7.236288</td>\n",
       "      <td>0</td>\n",
       "      <td>0</td>\n",
       "      <td>0</td>\n",
       "      <td>0</td>\n",
       "      <td>1</td>\n",
       "      <td>0</td>\n",
       "      <td>0</td>\n",
       "      <td>0</td>\n",
       "      <td>0</td>\n",
       "      <td>1</td>\n",
       "      <td>0</td>\n",
       "      <td>0</td>\n",
       "      <td>0</td>\n",
       "      <td>1</td>\n",
       "      <td>1</td>\n",
       "      <td>0</td>\n",
       "      <td>0</td>\n",
       "    </tr>\n",
       "    <tr>\n",
       "      <th>4</th>\n",
       "      <td>78</td>\n",
       "      <td>1</td>\n",
       "      <td>21.070932</td>\n",
       "      <td>0</td>\n",
       "      <td>0</td>\n",
       "      <td>0</td>\n",
       "      <td>0</td>\n",
       "      <td>1</td>\n",
       "      <td>0</td>\n",
       "      <td>0</td>\n",
       "      <td>1</td>\n",
       "      <td>0</td>\n",
       "      <td>0</td>\n",
       "      <td>1</td>\n",
       "      <td>0</td>\n",
       "      <td>0</td>\n",
       "      <td>0</td>\n",
       "      <td>1</td>\n",
       "      <td>0</td>\n",
       "      <td>0</td>\n",
       "    </tr>\n",
       "    <tr>\n",
       "      <th>...</th>\n",
       "      <td>...</td>\n",
       "      <td>...</td>\n",
       "      <td>...</td>\n",
       "      <td>...</td>\n",
       "      <td>...</td>\n",
       "      <td>...</td>\n",
       "      <td>...</td>\n",
       "      <td>...</td>\n",
       "      <td>...</td>\n",
       "      <td>...</td>\n",
       "      <td>...</td>\n",
       "      <td>...</td>\n",
       "      <td>...</td>\n",
       "      <td>...</td>\n",
       "      <td>...</td>\n",
       "      <td>...</td>\n",
       "      <td>...</td>\n",
       "      <td>...</td>\n",
       "      <td>...</td>\n",
       "      <td>...</td>\n",
       "    </tr>\n",
       "    <tr>\n",
       "      <th>563896</th>\n",
       "      <td>68</td>\n",
       "      <td>1</td>\n",
       "      <td>9.993361</td>\n",
       "      <td>0</td>\n",
       "      <td>1</td>\n",
       "      <td>0</td>\n",
       "      <td>0</td>\n",
       "      <td>0</td>\n",
       "      <td>0</td>\n",
       "      <td>0</td>\n",
       "      <td>0</td>\n",
       "      <td>0</td>\n",
       "      <td>1</td>\n",
       "      <td>0</td>\n",
       "      <td>0</td>\n",
       "      <td>1</td>\n",
       "      <td>0</td>\n",
       "      <td>0</td>\n",
       "      <td>1</td>\n",
       "      <td>0</td>\n",
       "    </tr>\n",
       "    <tr>\n",
       "      <th>563897</th>\n",
       "      <td>27</td>\n",
       "      <td>1</td>\n",
       "      <td>9.328049</td>\n",
       "      <td>0</td>\n",
       "      <td>1</td>\n",
       "      <td>0</td>\n",
       "      <td>0</td>\n",
       "      <td>0</td>\n",
       "      <td>0</td>\n",
       "      <td>0</td>\n",
       "      <td>0</td>\n",
       "      <td>0</td>\n",
       "      <td>1</td>\n",
       "      <td>0</td>\n",
       "      <td>0</td>\n",
       "      <td>1</td>\n",
       "      <td>0</td>\n",
       "      <td>0</td>\n",
       "      <td>1</td>\n",
       "      <td>0</td>\n",
       "    </tr>\n",
       "    <tr>\n",
       "      <th>563898</th>\n",
       "      <td>53</td>\n",
       "      <td>1</td>\n",
       "      <td>3.942586</td>\n",
       "      <td>0</td>\n",
       "      <td>1</td>\n",
       "      <td>0</td>\n",
       "      <td>0</td>\n",
       "      <td>0</td>\n",
       "      <td>0</td>\n",
       "      <td>0</td>\n",
       "      <td>0</td>\n",
       "      <td>1</td>\n",
       "      <td>0</td>\n",
       "      <td>0</td>\n",
       "      <td>0</td>\n",
       "      <td>0</td>\n",
       "      <td>1</td>\n",
       "      <td>0</td>\n",
       "      <td>0</td>\n",
       "      <td>1</td>\n",
       "    </tr>\n",
       "    <tr>\n",
       "      <th>563899</th>\n",
       "      <td>56</td>\n",
       "      <td>1</td>\n",
       "      <td>8.736661</td>\n",
       "      <td>0</td>\n",
       "      <td>1</td>\n",
       "      <td>0</td>\n",
       "      <td>0</td>\n",
       "      <td>0</td>\n",
       "      <td>0</td>\n",
       "      <td>0</td>\n",
       "      <td>0</td>\n",
       "      <td>0</td>\n",
       "      <td>1</td>\n",
       "      <td>0</td>\n",
       "      <td>0</td>\n",
       "      <td>1</td>\n",
       "      <td>0</td>\n",
       "      <td>0</td>\n",
       "      <td>1</td>\n",
       "      <td>0</td>\n",
       "    </tr>\n",
       "    <tr>\n",
       "      <th>563900</th>\n",
       "      <td>52</td>\n",
       "      <td>1</td>\n",
       "      <td>8.747613</td>\n",
       "      <td>0</td>\n",
       "      <td>1</td>\n",
       "      <td>0</td>\n",
       "      <td>0</td>\n",
       "      <td>0</td>\n",
       "      <td>0</td>\n",
       "      <td>0</td>\n",
       "      <td>0</td>\n",
       "      <td>0</td>\n",
       "      <td>1</td>\n",
       "      <td>0</td>\n",
       "      <td>0</td>\n",
       "      <td>1</td>\n",
       "      <td>0</td>\n",
       "      <td>1</td>\n",
       "      <td>0</td>\n",
       "      <td>0</td>\n",
       "    </tr>\n",
       "  </tbody>\n",
       "</table>\n",
       "<p>563901 rows × 20 columns</p>\n",
       "</div>"
      ],
      "text/plain": [
       "        eoy_age  DidVote  years_reg  city_APEX  city_CARY  city_CREEDMOOR  \\\n",
       "0            67        1  33.766607          0          0               0   \n",
       "1            68        1  50.766272          0          0               0   \n",
       "2            44        1   4.498381          0          0               0   \n",
       "3            26        1   7.236288          0          0               0   \n",
       "4            78        1  21.070932          0          0               0   \n",
       "...         ...      ...        ...        ...        ...             ...   \n",
       "563896       68        1   9.993361          0          1               0   \n",
       "563897       27        1   9.328049          0          1               0   \n",
       "563898       53        1   3.942586          0          1               0   \n",
       "563899       56        1   8.736661          0          1               0   \n",
       "563900       52        1   8.747613          0          1               0   \n",
       "\n",
       "        city_OTHER  city_RALEIGH  city_WAKE FOREST  race_lbl_Asian  \\\n",
       "0                0             1                 0               0   \n",
       "1                0             1                 0               0   \n",
       "2                0             1                 0               0   \n",
       "3                0             1                 0               0   \n",
       "4                0             1                 0               0   \n",
       "...            ...           ...               ...             ...   \n",
       "563896           0             0                 0               0   \n",
       "563897           0             0                 0               0   \n",
       "563898           0             0                 0               0   \n",
       "563899           0             0                 0               0   \n",
       "563900           0             0                 0               0   \n",
       "\n",
       "        race_lbl_Black  race_lbl_OTHER  race_lbl_White  party_lbl_DEMOCRAT  \\\n",
       "0                    0               0               1                   1   \n",
       "1                    0               0               1                   1   \n",
       "2                    0               0               1                   1   \n",
       "3                    0               0               1                   0   \n",
       "4                    1               0               0                   1   \n",
       "...                ...             ...             ...                 ...   \n",
       "563896               0               0               1                   0   \n",
       "563897               0               0               1                   0   \n",
       "563898               0               1               0                   0   \n",
       "563899               0               0               1                   0   \n",
       "563900               0               0               1                   0   \n",
       "\n",
       "        party_lbl_OTHER  party_lbl_REPUBLICAN  party_lbl_UNAFFILIATED  \\\n",
       "0                     0                     0                       0   \n",
       "1                     0                     0                       0   \n",
       "2                     0                     0                       0   \n",
       "3                     0                     0                       1   \n",
       "4                     0                     0                       0   \n",
       "...                 ...                   ...                     ...   \n",
       "563896                0                     1                       0   \n",
       "563897                0                     1                       0   \n",
       "563898                0                     0                       1   \n",
       "563899                0                     1                       0   \n",
       "563900                0                     1                       0   \n",
       "\n",
       "        gender_lbl_FEMALE  gender_lbl_MALE  gender_lbl_UKNOWN  \n",
       "0                       1                0                  0  \n",
       "1                       0                1                  0  \n",
       "2                       1                0                  0  \n",
       "3                       1                0                  0  \n",
       "4                       1                0                  0  \n",
       "...                   ...              ...                ...  \n",
       "563896                  0                1                  0  \n",
       "563897                  0                1                  0  \n",
       "563898                  0                0                  1  \n",
       "563899                  0                1                  0  \n",
       "563900                  1                0                  0  \n",
       "\n",
       "[563901 rows x 20 columns]"
      ]
     },
     "execution_count": 337,
     "metadata": {},
     "output_type": "execute_result"
    }
   ],
   "source": [
    "predict_data.drop(columns=['index'], inplace=True)\n",
    "predict_data"
   ]
  },
  {
   "cell_type": "markdown",
   "id": "3b6129a9",
   "metadata": {},
   "source": [
    "Step 17: Import models and train dataset"
   ]
  },
  {
   "cell_type": "code",
   "execution_count": 338,
   "id": "56fb5721",
   "metadata": {},
   "outputs": [],
   "source": [
    "from sklearn.model_selection import train_test_split"
   ]
  },
  {
   "cell_type": "code",
   "execution_count": 339,
   "id": "17b91de3",
   "metadata": {},
   "outputs": [],
   "source": [
    "feature_cols = predict_data.drop('DidVote', axis=1).columns\n",
    "x = predict_data[feature_cols]\n",
    "y = predict_data.DidVote\n",
    "x_train, x_test, y_train, y_test = train_test_split(x, y, test_size=0.3)"
   ]
  },
  {
   "cell_type": "code",
   "execution_count": 340,
   "id": "b27fa351",
   "metadata": {},
   "outputs": [
    {
     "data": {
      "text/html": [
       "<div>\n",
       "<style scoped>\n",
       "    .dataframe tbody tr th:only-of-type {\n",
       "        vertical-align: middle;\n",
       "    }\n",
       "\n",
       "    .dataframe tbody tr th {\n",
       "        vertical-align: top;\n",
       "    }\n",
       "\n",
       "    .dataframe thead th {\n",
       "        text-align: right;\n",
       "    }\n",
       "</style>\n",
       "<table border=\"1\" class=\"dataframe\">\n",
       "  <thead>\n",
       "    <tr style=\"text-align: right;\">\n",
       "      <th></th>\n",
       "      <th>eoy_age</th>\n",
       "      <th>years_reg</th>\n",
       "      <th>city_APEX</th>\n",
       "      <th>city_CARY</th>\n",
       "      <th>city_CREEDMOOR</th>\n",
       "      <th>city_OTHER</th>\n",
       "      <th>city_RALEIGH</th>\n",
       "      <th>city_WAKE FOREST</th>\n",
       "      <th>race_lbl_Asian</th>\n",
       "      <th>race_lbl_Black</th>\n",
       "      <th>race_lbl_OTHER</th>\n",
       "      <th>race_lbl_White</th>\n",
       "      <th>party_lbl_DEMOCRAT</th>\n",
       "      <th>party_lbl_OTHER</th>\n",
       "      <th>party_lbl_REPUBLICAN</th>\n",
       "      <th>party_lbl_UNAFFILIATED</th>\n",
       "      <th>gender_lbl_FEMALE</th>\n",
       "      <th>gender_lbl_MALE</th>\n",
       "      <th>gender_lbl_UKNOWN</th>\n",
       "    </tr>\n",
       "  </thead>\n",
       "  <tbody>\n",
       "    <tr>\n",
       "      <th>68056</th>\n",
       "      <td>65</td>\n",
       "      <td>28.468757</td>\n",
       "      <td>0</td>\n",
       "      <td>0</td>\n",
       "      <td>0</td>\n",
       "      <td>0</td>\n",
       "      <td>1</td>\n",
       "      <td>0</td>\n",
       "      <td>0</td>\n",
       "      <td>1</td>\n",
       "      <td>0</td>\n",
       "      <td>0</td>\n",
       "      <td>1</td>\n",
       "      <td>0</td>\n",
       "      <td>0</td>\n",
       "      <td>0</td>\n",
       "      <td>0</td>\n",
       "      <td>1</td>\n",
       "      <td>0</td>\n",
       "    </tr>\n",
       "    <tr>\n",
       "      <th>215782</th>\n",
       "      <td>73</td>\n",
       "      <td>29.974606</td>\n",
       "      <td>0</td>\n",
       "      <td>0</td>\n",
       "      <td>0</td>\n",
       "      <td>0</td>\n",
       "      <td>1</td>\n",
       "      <td>0</td>\n",
       "      <td>0</td>\n",
       "      <td>0</td>\n",
       "      <td>0</td>\n",
       "      <td>1</td>\n",
       "      <td>0</td>\n",
       "      <td>0</td>\n",
       "      <td>1</td>\n",
       "      <td>0</td>\n",
       "      <td>1</td>\n",
       "      <td>0</td>\n",
       "      <td>0</td>\n",
       "    </tr>\n",
       "    <tr>\n",
       "      <th>415451</th>\n",
       "      <td>57</td>\n",
       "      <td>12.068694</td>\n",
       "      <td>0</td>\n",
       "      <td>0</td>\n",
       "      <td>0</td>\n",
       "      <td>0</td>\n",
       "      <td>1</td>\n",
       "      <td>0</td>\n",
       "      <td>0</td>\n",
       "      <td>0</td>\n",
       "      <td>1</td>\n",
       "      <td>0</td>\n",
       "      <td>0</td>\n",
       "      <td>0</td>\n",
       "      <td>1</td>\n",
       "      <td>0</td>\n",
       "      <td>0</td>\n",
       "      <td>1</td>\n",
       "      <td>0</td>\n",
       "    </tr>\n",
       "    <tr>\n",
       "      <th>450768</th>\n",
       "      <td>52</td>\n",
       "      <td>12.169997</td>\n",
       "      <td>0</td>\n",
       "      <td>0</td>\n",
       "      <td>0</td>\n",
       "      <td>0</td>\n",
       "      <td>1</td>\n",
       "      <td>0</td>\n",
       "      <td>0</td>\n",
       "      <td>0</td>\n",
       "      <td>0</td>\n",
       "      <td>1</td>\n",
       "      <td>0</td>\n",
       "      <td>0</td>\n",
       "      <td>0</td>\n",
       "      <td>1</td>\n",
       "      <td>0</td>\n",
       "      <td>1</td>\n",
       "      <td>0</td>\n",
       "    </tr>\n",
       "    <tr>\n",
       "      <th>155453</th>\n",
       "      <td>70</td>\n",
       "      <td>17.007878</td>\n",
       "      <td>0</td>\n",
       "      <td>1</td>\n",
       "      <td>0</td>\n",
       "      <td>0</td>\n",
       "      <td>0</td>\n",
       "      <td>0</td>\n",
       "      <td>0</td>\n",
       "      <td>0</td>\n",
       "      <td>0</td>\n",
       "      <td>1</td>\n",
       "      <td>0</td>\n",
       "      <td>0</td>\n",
       "      <td>0</td>\n",
       "      <td>1</td>\n",
       "      <td>1</td>\n",
       "      <td>0</td>\n",
       "      <td>0</td>\n",
       "    </tr>\n",
       "    <tr>\n",
       "      <th>...</th>\n",
       "      <td>...</td>\n",
       "      <td>...</td>\n",
       "      <td>...</td>\n",
       "      <td>...</td>\n",
       "      <td>...</td>\n",
       "      <td>...</td>\n",
       "      <td>...</td>\n",
       "      <td>...</td>\n",
       "      <td>...</td>\n",
       "      <td>...</td>\n",
       "      <td>...</td>\n",
       "      <td>...</td>\n",
       "      <td>...</td>\n",
       "      <td>...</td>\n",
       "      <td>...</td>\n",
       "      <td>...</td>\n",
       "      <td>...</td>\n",
       "      <td>...</td>\n",
       "      <td>...</td>\n",
       "    </tr>\n",
       "    <tr>\n",
       "      <th>517173</th>\n",
       "      <td>44</td>\n",
       "      <td>24.433082</td>\n",
       "      <td>1</td>\n",
       "      <td>0</td>\n",
       "      <td>0</td>\n",
       "      <td>0</td>\n",
       "      <td>0</td>\n",
       "      <td>0</td>\n",
       "      <td>0</td>\n",
       "      <td>0</td>\n",
       "      <td>0</td>\n",
       "      <td>1</td>\n",
       "      <td>0</td>\n",
       "      <td>0</td>\n",
       "      <td>0</td>\n",
       "      <td>1</td>\n",
       "      <td>0</td>\n",
       "      <td>1</td>\n",
       "      <td>0</td>\n",
       "    </tr>\n",
       "    <tr>\n",
       "      <th>522741</th>\n",
       "      <td>80</td>\n",
       "      <td>8.520367</td>\n",
       "      <td>0</td>\n",
       "      <td>1</td>\n",
       "      <td>0</td>\n",
       "      <td>0</td>\n",
       "      <td>0</td>\n",
       "      <td>0</td>\n",
       "      <td>0</td>\n",
       "      <td>0</td>\n",
       "      <td>0</td>\n",
       "      <td>1</td>\n",
       "      <td>0</td>\n",
       "      <td>0</td>\n",
       "      <td>1</td>\n",
       "      <td>0</td>\n",
       "      <td>1</td>\n",
       "      <td>0</td>\n",
       "      <td>0</td>\n",
       "    </tr>\n",
       "    <tr>\n",
       "      <th>308997</th>\n",
       "      <td>84</td>\n",
       "      <td>8.016592</td>\n",
       "      <td>0</td>\n",
       "      <td>0</td>\n",
       "      <td>0</td>\n",
       "      <td>1</td>\n",
       "      <td>0</td>\n",
       "      <td>0</td>\n",
       "      <td>0</td>\n",
       "      <td>0</td>\n",
       "      <td>0</td>\n",
       "      <td>1</td>\n",
       "      <td>0</td>\n",
       "      <td>0</td>\n",
       "      <td>0</td>\n",
       "      <td>1</td>\n",
       "      <td>0</td>\n",
       "      <td>1</td>\n",
       "      <td>0</td>\n",
       "    </tr>\n",
       "    <tr>\n",
       "      <th>293152</th>\n",
       "      <td>34</td>\n",
       "      <td>7.980999</td>\n",
       "      <td>0</td>\n",
       "      <td>0</td>\n",
       "      <td>0</td>\n",
       "      <td>1</td>\n",
       "      <td>0</td>\n",
       "      <td>0</td>\n",
       "      <td>0</td>\n",
       "      <td>0</td>\n",
       "      <td>0</td>\n",
       "      <td>1</td>\n",
       "      <td>0</td>\n",
       "      <td>0</td>\n",
       "      <td>1</td>\n",
       "      <td>0</td>\n",
       "      <td>0</td>\n",
       "      <td>0</td>\n",
       "      <td>1</td>\n",
       "    </tr>\n",
       "    <tr>\n",
       "      <th>510345</th>\n",
       "      <td>62</td>\n",
       "      <td>7.980999</td>\n",
       "      <td>0</td>\n",
       "      <td>0</td>\n",
       "      <td>0</td>\n",
       "      <td>0</td>\n",
       "      <td>0</td>\n",
       "      <td>1</td>\n",
       "      <td>0</td>\n",
       "      <td>1</td>\n",
       "      <td>0</td>\n",
       "      <td>0</td>\n",
       "      <td>1</td>\n",
       "      <td>0</td>\n",
       "      <td>0</td>\n",
       "      <td>0</td>\n",
       "      <td>0</td>\n",
       "      <td>1</td>\n",
       "      <td>0</td>\n",
       "    </tr>\n",
       "  </tbody>\n",
       "</table>\n",
       "<p>394730 rows × 19 columns</p>\n",
       "</div>"
      ],
      "text/plain": [
       "        eoy_age  years_reg  city_APEX  city_CARY  city_CREEDMOOR  city_OTHER  \\\n",
       "68056        65  28.468757          0          0               0           0   \n",
       "215782       73  29.974606          0          0               0           0   \n",
       "415451       57  12.068694          0          0               0           0   \n",
       "450768       52  12.169997          0          0               0           0   \n",
       "155453       70  17.007878          0          1               0           0   \n",
       "...         ...        ...        ...        ...             ...         ...   \n",
       "517173       44  24.433082          1          0               0           0   \n",
       "522741       80   8.520367          0          1               0           0   \n",
       "308997       84   8.016592          0          0               0           1   \n",
       "293152       34   7.980999          0          0               0           1   \n",
       "510345       62   7.980999          0          0               0           0   \n",
       "\n",
       "        city_RALEIGH  city_WAKE FOREST  race_lbl_Asian  race_lbl_Black  \\\n",
       "68056              1                 0               0               1   \n",
       "215782             1                 0               0               0   \n",
       "415451             1                 0               0               0   \n",
       "450768             1                 0               0               0   \n",
       "155453             0                 0               0               0   \n",
       "...              ...               ...             ...             ...   \n",
       "517173             0                 0               0               0   \n",
       "522741             0                 0               0               0   \n",
       "308997             0                 0               0               0   \n",
       "293152             0                 0               0               0   \n",
       "510345             0                 1               0               1   \n",
       "\n",
       "        race_lbl_OTHER  race_lbl_White  party_lbl_DEMOCRAT  party_lbl_OTHER  \\\n",
       "68056                0               0                   1                0   \n",
       "215782               0               1                   0                0   \n",
       "415451               1               0                   0                0   \n",
       "450768               0               1                   0                0   \n",
       "155453               0               1                   0                0   \n",
       "...                ...             ...                 ...              ...   \n",
       "517173               0               1                   0                0   \n",
       "522741               0               1                   0                0   \n",
       "308997               0               1                   0                0   \n",
       "293152               0               1                   0                0   \n",
       "510345               0               0                   1                0   \n",
       "\n",
       "        party_lbl_REPUBLICAN  party_lbl_UNAFFILIATED  gender_lbl_FEMALE  \\\n",
       "68056                      0                       0                  0   \n",
       "215782                     1                       0                  1   \n",
       "415451                     1                       0                  0   \n",
       "450768                     0                       1                  0   \n",
       "155453                     0                       1                  1   \n",
       "...                      ...                     ...                ...   \n",
       "517173                     0                       1                  0   \n",
       "522741                     1                       0                  1   \n",
       "308997                     0                       1                  0   \n",
       "293152                     1                       0                  0   \n",
       "510345                     0                       0                  0   \n",
       "\n",
       "        gender_lbl_MALE  gender_lbl_UKNOWN  \n",
       "68056                 1                  0  \n",
       "215782                0                  0  \n",
       "415451                1                  0  \n",
       "450768                1                  0  \n",
       "155453                0                  0  \n",
       "...                 ...                ...  \n",
       "517173                1                  0  \n",
       "522741                0                  0  \n",
       "308997                1                  0  \n",
       "293152                0                  1  \n",
       "510345                1                  0  \n",
       "\n",
       "[394730 rows x 19 columns]"
      ]
     },
     "execution_count": 340,
     "metadata": {},
     "output_type": "execute_result"
    }
   ],
   "source": [
    "x_train"
   ]
  },
  {
   "cell_type": "markdown",
   "id": "6fa050e7",
   "metadata": {},
   "source": [
    "Step 18: Create the decision tree model #1"
   ]
  },
  {
   "cell_type": "code",
   "execution_count": 342,
   "id": "0e4ff80a",
   "metadata": {},
   "outputs": [
    {
     "name": "stdout",
     "output_type": "stream",
     "text": [
      "              precision    recall  f1-score   support\n",
      "\n",
      "           0       0.16      0.68      0.26     14278\n",
      "           1       0.96      0.68      0.79    154893\n",
      "\n",
      "    accuracy                           0.68    169171\n",
      "   macro avg       0.56      0.68      0.53    169171\n",
      "weighted avg       0.89      0.68      0.75    169171\n",
      "\n"
     ]
    },
    {
     "data": {
      "image/png": "[encoded data removed]",
      "text/plain": [
       "<Figure size 1080x504 with 1 Axes>"
      ]
     },
     "metadata": {
      "needs_background": "light"
     },
     "output_type": "display_data"
    }
   ],
   "source": [
    "from sklearn import tree\n",
    "import matplotlib.pyplot as plt\n",
    "from sklearn import metrics\n",
    "\n",
    "def run_model(d=3, cw='balanced', c='gini', s='best', msl=1):\n",
    "    clf = tree.DecisionTreeClassifier(max_depth=d,\n",
    "                                      class_weight=cw,\n",
    "                                      criterion=c,\n",
    "                                      splitter=s,\n",
    "                                      min_samples_leaf=msl)\n",
    "    clf2 = clf.fit(x_train, y_train)\n",
    "    plt.figure(figsize=(15,7))\n",
    "    tree.plot_tree(clf2, \n",
    "               feature_names=feature_cols,\n",
    "               class_names = ['Did_Not_Vote', 'Did_Vote'],\n",
    "               filled=True, precision=2,\n",
    "               node_ids=True, fontsize=12,\n",
    "               label='root', proportion=True,\n",
    "               impurity=False)\n",
    "    y_pred = clf2.predict(x_test)\n",
    "    print(metrics.classification_report(y_test, y_pred))\n",
    "\n",
    "run_model()"
   ]
  },
  {
   "cell_type": "markdown",
   "id": "44cba047",
   "metadata": {},
   "source": [
    "Create tree #2"
   ]
  },
  {
   "cell_type": "code",
   "execution_count": 345,
   "id": "8dbb3cc8",
   "metadata": {},
   "outputs": [
    {
     "name": "stdout",
     "output_type": "stream",
     "text": [
      "              precision    recall  f1-score   support\n",
      "\n",
      "           0       0.15      0.77      0.25     14278\n",
      "           1       0.97      0.59      0.73    154893\n",
      "\n",
      "    accuracy                           0.61    169171\n",
      "   macro avg       0.56      0.68      0.49    169171\n",
      "weighted avg       0.90      0.61      0.69    169171\n",
      "\n"
     ]
    },
    {
     "data": {
      "image/png": "[encoded data removed]",
      "text/plain": [
       "<Figure size 1080x504 with 1 Axes>"
      ]
     },
     "metadata": {
      "needs_background": "light"
     },
     "output_type": "display_data"
    }
   ],
   "source": [
    "run_model(d=4, cw='balanced', c='gini', s='best', msl=1)"
   ]
  },
  {
   "cell_type": "markdown",
   "id": "40efa38b",
   "metadata": {},
   "source": [
    "Create tree #3"
   ]
  },
  {
   "cell_type": "code",
   "execution_count": 344,
   "id": "a0fa4685",
   "metadata": {},
   "outputs": [
    {
     "name": "stdout",
     "output_type": "stream",
     "text": [
      "              precision    recall  f1-score   support\n",
      "\n",
      "           0       0.14      0.76      0.23     14278\n",
      "           1       0.96      0.56      0.71    154893\n",
      "\n",
      "    accuracy                           0.58    169171\n",
      "   macro avg       0.55      0.66      0.47    169171\n",
      "weighted avg       0.89      0.58      0.67    169171\n",
      "\n"
     ]
    },
    {
     "data": {
      "image/png": "[encoded data removed]",
      "text/plain": [
       "<Figure size 1080x504 with 1 Axes>"
      ]
     },
     "metadata": {
      "needs_background": "light"
     },
     "output_type": "display_data"
    }
   ],
   "source": [
    "run_model(d=3, cw='balanced', c='gini', s='random', msl=1)"
   ]
  },
  {
   "cell_type": "markdown",
   "id": "7da36a2e",
   "metadata": {},
   "source": [
    "##Evaluate\n",
    "The first model I ran looks like the one with the best f-1 score, that initiates the best split for 3 levels deep. The first model predicts that if an individual was registered for 28 years and was older than 40.5, they had voted (which was 44% of the sample). If an individual had been registered for less than 14 years, were under the age of 35.5, and were not white, there was a much higher likelihood that they did not vote. It looks like age and years registered are highly correlated with the probabilty to vote."
   ]
  },
  {
   "cell_type": "code",
   "execution_count": null,
   "id": "8402fa0e",
   "metadata": {},
   "outputs": [],
   "source": []
  }
 ],
 "metadata": {
  "kernelspec": {
   "display_name": "Python 3 (ipykernel)",
   "language": "python",
   "name": "python3"
  },
  "language_info": {
   "codemirror_mode": {
    "name": "ipython",
    "version": 3
   },
   "file_extension": ".py",
   "mimetype": "text/x-python",
   "name": "python",
   "nbconvert_exporter": "python",
   "pygments_lexer": "ipython3",
   "version": "3.9.7"
  }
 },
 "nbformat": 4,
 "nbformat_minor": 5
}
